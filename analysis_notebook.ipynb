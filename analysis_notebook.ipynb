{
  "cells": [
    {
      "cell_type": "markdown",
      "metadata": {
        "id": "view-in-github",
        "colab_type": "text"
      },
      "source": [
        "<a href=\"https://colab.research.google.com/github/jakezetci/sun/blob/main/analysis_notebook.ipynb\" target=\"_parent\"><img src=\"https://colab.research.google.com/assets/colab-badge.svg\" alt=\"Open In Colab\"/></a>"
      ]
    },
    {
      "cell_type": "markdown",
      "source": [
        "# Импортируем всё необходимое\n",
        "\n",
        "\n",
        "---\n",
        "\n"
      ],
      "metadata": {
        "id": "gwFoes2lQXqo"
      }
    },
    {
      "cell_type": "code",
      "execution_count": null,
      "metadata": {
        "id": "Og5Us-8KLNEo"
      },
      "outputs": [],
      "source": [
        "import numpy as np\n",
        "import pickle\n",
        "import pandas as pd\n",
        "import time\n",
        "from google.colab import drive\n",
        "!pip install astropy[all]\n",
        "!pip install sunpy[all]\n",
        "!pip install pyTelegramBotAPI\n",
        "\n"
      ]
    },
    {
      "cell_type": "code",
      "execution_count": null,
      "metadata": {
        "id": "R7tKevVxMSfE"
      },
      "outputs": [],
      "source": [
        "!git clone https://github.com/jakezetci/sun.git\n"
      ]
    },
    {
      "cell_type": "code",
      "execution_count": null,
      "metadata": {
        "id": "q9KiM2i1fRnB"
      },
      "outputs": [],
      "source": [
        "!cd\n",
        "\n",
        "try:\n",
        "  from sun.pipeline import download_map_and_harp, bitmaps_to_points, compute_harp_MEnergy\n",
        "  from sun.computing import compute_grid_energy, create_grid, comp_grid_points\n",
        "  from sun.plots import config\n",
        "except ModuleNotFoundError:\n",
        "  from pipeline import download_map_and_harp, bitmaps_to_points, compute_harp_MEnergy\n",
        "  from computing import compute_grid_energy, create_grid, comp_grid_points\n",
        "  from plots import config"
      ]
    },
    {
      "cell_type": "markdown",
      "metadata": {
        "id": "JcltbMBRceot"
      },
      "source": [
        "# Следующее: подсчёт магнитных энергий в определенный момент времени."
      ]
    },
    {
      "cell_type": "code",
      "execution_count": null,
      "metadata": {
        "id": "knXfy3UPn20d"
      },
      "outputs": [],
      "source": [
        "M = 30 # количество временных точек\n",
        "frequency = '6H' # частота точек\n",
        "start_time = \"2023-08-08 00:12:00\" # время начала измерений\n",
        "\n",
        "#параметры сетки, которую мы будем считать\n",
        "latlim = (-60, 60)\n",
        "lonlim = (-60, 60)\n",
        "N = 1 # количество точек на один градус\n",
        "r = 800000 * 1e3 # высота сетки в метрах"
      ]
    },
    {
      "cell_type": "code",
      "execution_count": null,
      "metadata": {
        "id": "iLOZBYmGOJtg"
      },
      "outputs": [],
      "source": [
        "dates = pd.date_range(start=strat_time,\n",
        "                      freq=frequency, periods=M).values\n",
        "energys_low = np.zeros(M)\n",
        "energys_high = np.zeros(M)\n",
        "for i, date in enumerate(dates):\n",
        "    tic=time.perf_counter()\n",
        "    magnetogram, bitmaps = download_map_and_harp(date, date)\n",
        "    energy_low = np.sum(compute_harp_MEnergy(date, date, downloaded=True,\n",
        "                                             magnetogram=magnetogram,\n",
        "                                             bitmaps=bitmaps))\n",
        "    values, points = bitmaps_to_points(date, downloaded=True, magnetogram=magnetogram,\n",
        "                                       bitmaps=bitmaps)\n",
        "    grid_empty = create_grid(latlim, lonlim, N, r=r)\n",
        "    ts = pd.to_datetime(str(date))\n",
        "    name = ts.strftime('%Y.%m.%d %I:%M%p')\n",
        "    grid_high = comp_grid_points(grid_empty, points, values,\n",
        "                                 checkpoints=15, timestamp=True,\n",
        "                                 alert=False, name=name)\n",
        "    energy_high = compute_grid_energy(grid_high)\n",
        "    energys_low[i] = energy_low\n",
        "    energys_high[i] = energy_high\n",
        "    toc=time.perf.counter()\n",
        "    print(f'one value done in  {toc - tic:0.2f} seconds')\n",
        "# сохранение результатов\n",
        "drive.mount('/content/gdrive')\n",
        "np.savetxt('/content/gdrive/My Drive/HIGH.txt', energys_high)\n",
        "np.savetxt('/content/gdrive/My Drive/LOW.txt', energys_low)\n",
        "np.savetxt('/content/gdrive/My Drive/dates.txt', dates)"
      ]
    }
  ],
  "metadata": {
    "colab": {
      "provenance": [],
      "authorship_tag": "ABX9TyPh9H4y2dJlmhEgPBhJK0AQ",
      "include_colab_link": true
    },
    "kernelspec": {
      "display_name": "Python 3",
      "name": "python3"
    },
    "language_info": {
      "name": "python"
    }
  },
  "nbformat": 4,
  "nbformat_minor": 0
}